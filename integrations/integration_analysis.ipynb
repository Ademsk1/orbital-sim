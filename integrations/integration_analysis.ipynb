{
 "cells": [
  {
   "cell_type": "code",
   "execution_count": 4,
   "metadata": {},
   "outputs": [],
   "source": [
    "import numpy as np\n",
    "import pprint\n",
    "from simpsons import simpsons_integration\n",
    "from simple import simple_integration\n",
    "\n",
    "pp = pprint.PrettyPrinter(indent=4)\n"
   ]
  },
  {
   "cell_type": "markdown",
   "metadata": {},
   "source": [
    "# Tests\n",
    "\n",
    "We're going to test a list of functions with well-known integration values within the range [a,b]. \n",
    "Test known integrals, with variable dx belonging to \n",
    "Moon period is 2358720s. 1s of this is 0.000042% of the orbit. We test with dx\n",
    "\n",
    "[0.000042, 0.00042, 0.0042, 0.042] (%). \n",
    "\n",
    "\n",
    "\n",
    "1. Straight lines\n",
    "\n",
    "    $ y = x $\n",
    "\n",
    "2. Quadratics\n",
    "\n",
    "    $ y = x^2 $\n",
    "\n",
    "3. Exponentials\n",
    "\n",
    "    $ y = e^x $\n",
    "\n",
    "4. Ellipse\n",
    "\n",
    "    $ y = sin(x) $\n"
   ]
  },
  {
   "cell_type": "code",
   "execution_count": 14,
   "metadata": {},
   "outputs": [],
   "source": [
    "class TestIntegrationMethods:\n",
    "    def __init__(self):\n",
    "        self.a = 0\n",
    "        self.b = 10\n",
    "        self.areas = {\n",
    "            \"straight_line\": {\n",
    "                \"actual\": 50,\n",
    "                \"simple\": None,\n",
    "                \"simpsons\": None,\n",
    "                \"function\": self.straight_lines_func\n",
    "            },\n",
    "            \"quadratics\": {\n",
    "                \"actual\": 1000/3,\n",
    "                \"simple\": None,\n",
    "                \"simpsons\": None,\n",
    "                \"function\": self.quadratic_func\n",
    "            },\n",
    "            \"exponentials\": {\n",
    "                \"actual\": np.exp(10)-np.exp(0),\n",
    "                \"simple\": None,\n",
    "                \"simpsons\": None,\n",
    "                \"function\": self.exponentials_func\n",
    "            },\n",
    "            \"sine\": {\n",
    "                \"actual\": np.cos(0)-np.cos(10),\n",
    "                \"simple\": None,\n",
    "                \"simpsons\": None,\n",
    "                \"function\": self.sine_func\n",
    "            }\n",
    "        }\n",
    "        self.dx = np.array(\n",
    "            [4.24e-7, 4.24e-6, 4.24e-5, 4.24e-4])*(self.b-self.a)  # dx\n",
    "        self.n = np.array([np.int64((self.b-self.a)//dx_i)\n",
    "                          for dx_i in self.dx])  # no. of partitions\n",
    "        self.xs = [np.linspace(self.a, self.b, n)\n",
    "                   for n in self.n]  # x values of equal width\n",
    "\n",
    "        self.main()\n",
    "\n",
    "    def straight_lines_func(self, x):\n",
    "        return x\n",
    "\n",
    "    def quadratic_func(self, x, a=1, b=0, c=0):\n",
    "        return a*x**2 + b*x + c\n",
    "\n",
    "    def exponentials_func(self, x):\n",
    "        return np.exp(x)\n",
    "\n",
    "    def sine_func(self, x):\n",
    "        return np.sin(x)\n",
    "\n",
    "    def integral_test(self, integral_method, f):\n",
    "        total_area = 0\n",
    "        for i in range(0, len(self.xs[0])-1):\n",
    "            x0 = self.xs[0][i]\n",
    "            # TODO change back index to j for looping through intervals\n",
    "            x2 = self.xs[0][i+1]\n",
    "            total_area += integral_method(f, x0, x2)\n",
    "        return total_area\n",
    "\n",
    "    def get_areas(self, line):\n",
    "        simpsons_area = self.integral_test(simpsons_integration, line)\n",
    "        simple_area = self.integral_test(simple_integration, line)\n",
    "        return {\"simple\": simple_area, \"simpsons\": simpsons_area}\n",
    "\n",
    "    def main(self):\n",
    "        for name, equation_type in self.areas.items():\n",
    "            print(f'Starting: {name}')\n",
    "            solutions = self.get_areas(equation_type['function'])\n",
    "\n",
    "            equation_type['simpsons'] = solutions['simpsons']\n",
    "            equation_type['simple'] = solutions['simple']\n",
    "            print(f'Completed: {name}')\n"
   ]
  },
  {
   "cell_type": "code",
   "execution_count": 15,
   "metadata": {},
   "outputs": [
    {
     "name": "stdout",
     "output_type": "stream",
     "text": [
      "Starting: straight_line\n",
      "Completed: straight_line\n",
      "Starting: quadratics\n",
      "Completed: quadratics\n",
      "Starting: exponentials\n",
      "Completed: exponentials\n",
      "Starting: sine\n",
      "Completed: sine\n",
      "{   'exponentials': {   'actual': 22025.465794806718,\n",
      "                        'function': <bound method TestIntegrationMethods.exponentials_func of <__main__.TestIntegrationMethods object at 0x7f22e49aa850>>,\n",
      "                        'simple': 22025.419100821066,\n",
      "                        'simpsons': 22025.465794806987},\n",
      "    'quadratics': {   'actual': 333.3333333333333,\n",
      "                      'function': <bound method TestIntegrationMethods.quadratic_func of <__main__.TestIntegrationMethods object at 0x7f22e49aa850>>,\n",
      "                      'simple': 333.3331213332305,\n",
      "                      'simpsons': 333.33333333331564},\n",
      "    'sine': {   'actual': 1.8390715290764525,\n",
      "                'function': <bound method TestIntegrationMethods.sine_func of <__main__.TestIntegrationMethods object at 0x7f22e49aa850>>,\n",
      "                'simple': 1.8390726823993466,\n",
      "                'simpsons': 1.839071529076446},\n",
      "    'straight_line': {   'actual': 50,\n",
      "                         'function': <bound method TestIntegrationMethods.straight_lines_func of <__main__.TestIntegrationMethods object at 0x7f22e49aa850>>,\n",
      "                         'simple': 49.999978799985875,\n",
      "                         'simpsons': 49.999999999999964}}\n"
     ]
    }
   ],
   "source": [
    "results = TestIntegrationMethods()\n",
    "\n",
    "pp.pprint(results.areas)\n"
   ]
  },
  {
   "cell_type": "code",
   "execution_count": 18,
   "metadata": {},
   "outputs": [
    {
     "name": "stdout",
     "output_type": "stream",
     "text": [
      "Equation: straight_line\n",
      "Simple % error: 4.240002824928979e-05%\n",
      "Simpsons % error: 7.105427357601002e-14%\n",
      "Simple Error / Simpsons Error : 596727348.2\n",
      "Equation: quadratics\n",
      "Simple % error: 6.360003084182608e-05%\n",
      "Simpsons % error: 5.3034909797133884e-12%\n",
      "Simple Error / Simpsons Error : 11992106.913183277\n",
      "Equation: exponentials\n",
      "Simple % error: 0.00021199999167959485%\n",
      "Simpsons % error: 1.222268960088293e-12%\n",
      "Simple Error / Simpsons Error : 173447905.9864865\n",
      "Equation: sine\n",
      "Simple % error: 6.271223690007873e-05%\n",
      "Simpsons % error: 3.501382866853255e-13%\n",
      "Simple Error / Simpsons Error : 179107053.6551724\n"
     ]
    }
   ],
   "source": [
    "def print_results():\n",
    "    for name, data in results.areas.items():\n",
    "        true_value = data['actual']\n",
    "        simple_diff = abs(true_value - data['simple'])/true_value * 100\n",
    "        simpsons_diff =  abs(true_value - data['simpsons'])/true_value * 100\n",
    "        print(f'Equation: {name}')\n",
    "        print(f'Simple % error: {simple_diff}%')\n",
    "        print(f'Simpsons % error: {simpsons_diff}%')\n",
    "        \n",
    "        print(f'Simple Error / Simpsons Error : {simple_diff/simpsons_diff}')\n",
    "print_results()\n",
    "    "
   ]
  },
  {
   "cell_type": "markdown",
   "metadata": {},
   "source": [
    "It's clear that when the true value is accurate, the Simpsons outperforms the simple integration techique massively. What happens when the true integration value is a little out?"
   ]
  },
  {
   "cell_type": "code",
   "execution_count": 23,
   "metadata": {},
   "outputs": [
    {
     "name": "stdout",
     "output_type": "stream",
     "text": [
      "Equation: straight_line\n",
      "Simple % error: 9.090947636389341%\n",
      "Simpsons % error: 9.090909090909179%\n",
      "Simple Error / Simpsons Error : 1.000004240002818\n",
      "Equation: quadratics\n",
      "Simple % error: 9.090966909118956%\n",
      "Simpsons % error: 9.090909090913922%\n",
      "Simple Error / Simpsons Error : 1.0000063600025537\n",
      "Equation: exponentials\n",
      "Simple % error: 9.09110181817426%\n",
      "Simpsons % error: 9.090909090907985%\n",
      "Simple Error / Simpsons Error : 1.0000211999992903\n",
      "Equation: sine\n",
      "Simple % error: 9.090852079784636%\n",
      "Simpsons % error: 9.09090909090941%\n",
      "Simple Error / Simpsons Error : 0.9999937287762749\n",
      "------------------\n",
      "Equation: straight_line\n",
      "Simple % error: 16.666702000023562%\n",
      "Simpsons % error: 16.666666666666746%\n",
      "Simple Error / Simpsons Error : 1.000002120001409\n",
      "Equation: quadratics\n",
      "Simple % error: 16.666719666692362%\n",
      "Simpsons % error: 16.66666666667108%\n",
      "Simple Error / Simpsons Error : 1.000003180001277\n",
      "Equation: exponentials\n",
      "Simple % error: 16.666843333326398%\n",
      "Simpsons % error: 16.666666666665648%\n",
      "Simple Error / Simpsons Error : 1.000010599999645\n",
      "Equation: sine\n",
      "Simple % error: 16.66661440646925%\n",
      "Simpsons % error: 16.666666666666956%\n",
      "Simple Error / Simpsons Error : 0.9999968643881377\n"
     ]
    }
   ],
   "source": [
    "def adjust_percent_up(percent):\n",
    "    multiplier = 1 + percent/100\n",
    "    for _,item in results.areas.items():\n",
    "        item['actual'] *=multiplier\n",
    "\n",
    "def remove_adjustment(percent):\n",
    "    multiplier = 1/(1 + percent/100)\n",
    "    for _, item in results.areas.items():\n",
    "        item['actual'] *= multiplier\n",
    "\n",
    "\n",
    "adjust_percent_up(10)\n",
    "print_results()\n",
    "remove_adjustment(10)\n",
    "print('------------------')\n",
    "adjust_percent_up(20)\n",
    "print_results()\n",
    "remove_adjustment(20)\n",
    "\n"
   ]
  },
  {
   "cell_type": "markdown",
   "metadata": {},
   "source": [
    "So is it the case that Simpsons really is better than the simple integration technique given the roughness of our estimated values? "
   ]
  }
 ],
 "metadata": {
  "kernelspec": {
   "display_name": "base",
   "language": "python",
   "name": "python3"
  },
  "language_info": {
   "codemirror_mode": {
    "name": "ipython",
    "version": 3
   },
   "file_extension": ".py",
   "mimetype": "text/x-python",
   "name": "python",
   "nbconvert_exporter": "python",
   "pygments_lexer": "ipython3",
   "version": "3.7.6"
  },
  "orig_nbformat": 4
 },
 "nbformat": 4,
 "nbformat_minor": 2
}
